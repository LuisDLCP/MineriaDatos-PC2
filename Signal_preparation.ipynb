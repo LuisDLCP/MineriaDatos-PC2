{
  "nbformat": 4,
  "nbformat_minor": 0,
  "metadata": {
    "colab": {
      "name": "Signal_preparation.ipynb",
      "provenance": [],
      "collapsed_sections": [],
      "authorship_tag": "ABX9TyOQXgWRNjwIt4w0960W1hL5",
      "include_colab_link": true
    },
    "kernelspec": {
      "name": "python3",
      "display_name": "Python 3"
    },
    "language_info": {
      "name": "python"
    }
  },
  "cells": [
    {
      "cell_type": "markdown",
      "metadata": {
        "id": "view-in-github",
        "colab_type": "text"
      },
      "source": [
        "<a href=\"https://colab.research.google.com/github/LuisDLCP/MineriaDatos-PC2/blob/main/Signal_preparation.ipynb\" target=\"_parent\"><img src=\"https://colab.research.google.com/assets/colab-badge.svg\" alt=\"Open In Colab\"/></a>"
      ]
    },
    {
      "cell_type": "code",
      "execution_count": null,
      "metadata": {
        "colab": {
          "base_uri": "https://localhost:8080/"
        },
        "id": "8G2cg5ZzslmP",
        "outputId": "ac8f236d-2a49-47a5-cea1-fa6a6345fd31"
      },
      "outputs": [
        {
          "output_type": "stream",
          "name": "stdout",
          "text": [
            "Drive already mounted at /content/drive/; to attempt to forcibly remount, call drive.mount(\"/content/drive/\", force_remount=True).\n"
          ]
        }
      ],
      "source": [
        "from google.colab import drive\n",
        "drive.mount('/content/drive/')"
      ]
    },
    {
      "cell_type": "code",
      "source": [
        "root_path=\"./drive/MyDrive/Master_Program_CC/AprendizajeAutomatico/PC2/Dataset/\"\n",
        "!ls {root_path}"
      ],
      "metadata": {
        "colab": {
          "base_uri": "https://localhost:8080/"
        },
        "id": "0RyeWvAHtGEu",
        "outputId": "fdf19370-9b2f-4f4b-a1c9-4c7559fa4e3d"
      },
      "execution_count": null,
      "outputs": [
        {
          "output_type": "stream",
          "name": "stdout",
          "text": [
            "dataset.json  RawData1.xlsx  RawData2.xlsx\n"
          ]
        }
      ]
    },
    {
      "cell_type": "code",
      "source": [
        "import pandas as pd\n",
        "import matplotlib.pyplot as plt\n",
        "from scipy.signal import butter, filtfilt\n",
        "from scipy.fft import fft, fftfreq\n",
        "from scipy.signal import argrelextrema\n",
        "import numpy as np"
      ],
      "metadata": {
        "id": "XpLiBQ57toLT"
      },
      "execution_count": null,
      "outputs": []
    },
    {
      "cell_type": "markdown",
      "source": [
        "**1) READING THE DATA SET** "
      ],
      "metadata": {
        "id": "iKWrVDg5YfHw"
      }
    },
    {
      "cell_type": "code",
      "source": [
        "df = pd.read_excel(input_path+\"RawData2.xlsx\")\n",
        "df.head()"
      ],
      "metadata": {
        "colab": {
          "base_uri": "https://localhost:8080/",
          "height": 206
        },
        "id": "qeEceMVNun4J",
        "outputId": "73307d6b-7553-407f-b0e4-f057bbffc5d6"
      },
      "execution_count": null,
      "outputs": [
        {
          "output_type": "execute_result",
          "data": {
            "text/html": [
              "\n",
              "  <div id=\"df-d825f008-87fc-417e-a7d0-b1e2f3b8b4d5\">\n",
              "    <div class=\"colab-df-container\">\n",
              "      <div>\n",
              "<style scoped>\n",
              "    .dataframe tbody tr th:only-of-type {\n",
              "        vertical-align: middle;\n",
              "    }\n",
              "\n",
              "    .dataframe tbody tr th {\n",
              "        vertical-align: top;\n",
              "    }\n",
              "\n",
              "    .dataframe thead th {\n",
              "        text-align: right;\n",
              "    }\n",
              "</style>\n",
              "<table border=\"1\" class=\"dataframe\">\n",
              "  <thead>\n",
              "    <tr style=\"text-align: right;\">\n",
              "      <th></th>\n",
              "      <th>id</th>\n",
              "      <th>num</th>\n",
              "      <th>actividad</th>\n",
              "      <th>genero</th>\n",
              "      <th>edad</th>\n",
              "      <th>ejex</th>\n",
              "      <th>ejey</th>\n",
              "      <th>ejez</th>\n",
              "      <th>usuario</th>\n",
              "      <th>fecha</th>\n",
              "    </tr>\n",
              "  </thead>\n",
              "  <tbody>\n",
              "    <tr>\n",
              "      <th>0</th>\n",
              "      <td>1</td>\n",
              "      <td>1</td>\n",
              "      <td>parado</td>\n",
              "      <td>hombre</td>\n",
              "      <td>joven</td>\n",
              "      <td>-1.61</td>\n",
              "      <td>3.35</td>\n",
              "      <td>9.51</td>\n",
              "      <td>Luis</td>\n",
              "      <td>2022-01-06 00:13:40</td>\n",
              "    </tr>\n",
              "    <tr>\n",
              "      <th>1</th>\n",
              "      <td>2</td>\n",
              "      <td>2</td>\n",
              "      <td>parado</td>\n",
              "      <td>hombre</td>\n",
              "      <td>joven</td>\n",
              "      <td>-1.61</td>\n",
              "      <td>3.35</td>\n",
              "      <td>9.51</td>\n",
              "      <td>Luis</td>\n",
              "      <td>2022-01-06 00:13:40</td>\n",
              "    </tr>\n",
              "    <tr>\n",
              "      <th>2</th>\n",
              "      <td>3</td>\n",
              "      <td>3</td>\n",
              "      <td>parado</td>\n",
              "      <td>hombre</td>\n",
              "      <td>joven</td>\n",
              "      <td>-1.61</td>\n",
              "      <td>3.35</td>\n",
              "      <td>9.51</td>\n",
              "      <td>Luis</td>\n",
              "      <td>2022-01-06 00:13:40</td>\n",
              "    </tr>\n",
              "    <tr>\n",
              "      <th>3</th>\n",
              "      <td>4</td>\n",
              "      <td>4</td>\n",
              "      <td>parado</td>\n",
              "      <td>hombre</td>\n",
              "      <td>joven</td>\n",
              "      <td>-1.61</td>\n",
              "      <td>3.35</td>\n",
              "      <td>9.51</td>\n",
              "      <td>Luis</td>\n",
              "      <td>2022-01-06 00:13:40</td>\n",
              "    </tr>\n",
              "    <tr>\n",
              "      <th>4</th>\n",
              "      <td>5</td>\n",
              "      <td>5</td>\n",
              "      <td>parado</td>\n",
              "      <td>hombre</td>\n",
              "      <td>joven</td>\n",
              "      <td>-1.61</td>\n",
              "      <td>3.35</td>\n",
              "      <td>9.51</td>\n",
              "      <td>Luis</td>\n",
              "      <td>2022-01-06 00:13:40</td>\n",
              "    </tr>\n",
              "  </tbody>\n",
              "</table>\n",
              "</div>\n",
              "      <button class=\"colab-df-convert\" onclick=\"convertToInteractive('df-d825f008-87fc-417e-a7d0-b1e2f3b8b4d5')\"\n",
              "              title=\"Convert this dataframe to an interactive table.\"\n",
              "              style=\"display:none;\">\n",
              "        \n",
              "  <svg xmlns=\"http://www.w3.org/2000/svg\" height=\"24px\"viewBox=\"0 0 24 24\"\n",
              "       width=\"24px\">\n",
              "    <path d=\"M0 0h24v24H0V0z\" fill=\"none\"/>\n",
              "    <path d=\"M18.56 5.44l.94 2.06.94-2.06 2.06-.94-2.06-.94-.94-2.06-.94 2.06-2.06.94zm-11 1L8.5 8.5l.94-2.06 2.06-.94-2.06-.94L8.5 2.5l-.94 2.06-2.06.94zm10 10l.94 2.06.94-2.06 2.06-.94-2.06-.94-.94-2.06-.94 2.06-2.06.94z\"/><path d=\"M17.41 7.96l-1.37-1.37c-.4-.4-.92-.59-1.43-.59-.52 0-1.04.2-1.43.59L10.3 9.45l-7.72 7.72c-.78.78-.78 2.05 0 2.83L4 21.41c.39.39.9.59 1.41.59.51 0 1.02-.2 1.41-.59l7.78-7.78 2.81-2.81c.8-.78.8-2.07 0-2.86zM5.41 20L4 18.59l7.72-7.72 1.47 1.35L5.41 20z\"/>\n",
              "  </svg>\n",
              "      </button>\n",
              "      \n",
              "  <style>\n",
              "    .colab-df-container {\n",
              "      display:flex;\n",
              "      flex-wrap:wrap;\n",
              "      gap: 12px;\n",
              "    }\n",
              "\n",
              "    .colab-df-convert {\n",
              "      background-color: #E8F0FE;\n",
              "      border: none;\n",
              "      border-radius: 50%;\n",
              "      cursor: pointer;\n",
              "      display: none;\n",
              "      fill: #1967D2;\n",
              "      height: 32px;\n",
              "      padding: 0 0 0 0;\n",
              "      width: 32px;\n",
              "    }\n",
              "\n",
              "    .colab-df-convert:hover {\n",
              "      background-color: #E2EBFA;\n",
              "      box-shadow: 0px 1px 2px rgba(60, 64, 67, 0.3), 0px 1px 3px 1px rgba(60, 64, 67, 0.15);\n",
              "      fill: #174EA6;\n",
              "    }\n",
              "\n",
              "    [theme=dark] .colab-df-convert {\n",
              "      background-color: #3B4455;\n",
              "      fill: #D2E3FC;\n",
              "    }\n",
              "\n",
              "    [theme=dark] .colab-df-convert:hover {\n",
              "      background-color: #434B5C;\n",
              "      box-shadow: 0px 1px 3px 1px rgba(0, 0, 0, 0.15);\n",
              "      filter: drop-shadow(0px 1px 2px rgba(0, 0, 0, 0.3));\n",
              "      fill: #FFFFFF;\n",
              "    }\n",
              "  </style>\n",
              "\n",
              "      <script>\n",
              "        const buttonEl =\n",
              "          document.querySelector('#df-d825f008-87fc-417e-a7d0-b1e2f3b8b4d5 button.colab-df-convert');\n",
              "        buttonEl.style.display =\n",
              "          google.colab.kernel.accessAllowed ? 'block' : 'none';\n",
              "\n",
              "        async function convertToInteractive(key) {\n",
              "          const element = document.querySelector('#df-d825f008-87fc-417e-a7d0-b1e2f3b8b4d5');\n",
              "          const dataTable =\n",
              "            await google.colab.kernel.invokeFunction('convertToInteractive',\n",
              "                                                     [key], {});\n",
              "          if (!dataTable) return;\n",
              "\n",
              "          const docLinkHtml = 'Like what you see? Visit the ' +\n",
              "            '<a target=\"_blank\" href=https://colab.research.google.com/notebooks/data_table.ipynb>data table notebook</a>'\n",
              "            + ' to learn more about interactive tables.';\n",
              "          element.innerHTML = '';\n",
              "          dataTable['output_type'] = 'display_data';\n",
              "          await google.colab.output.renderOutput(dataTable, element);\n",
              "          const docLink = document.createElement('div');\n",
              "          docLink.innerHTML = docLinkHtml;\n",
              "          element.appendChild(docLink);\n",
              "        }\n",
              "      </script>\n",
              "    </div>\n",
              "  </div>\n",
              "  "
            ],
            "text/plain": [
              "   id  num actividad  genero  ...  ejey  ejez  usuario                fecha\n",
              "0   1    1    parado  hombre  ...  3.35  9.51     Luis  2022-01-06 00:13:40\n",
              "1   2    2    parado  hombre  ...  3.35  9.51     Luis  2022-01-06 00:13:40\n",
              "2   3    3    parado  hombre  ...  3.35  9.51     Luis  2022-01-06 00:13:40\n",
              "3   4    4    parado  hombre  ...  3.35  9.51     Luis  2022-01-06 00:13:40\n",
              "4   5    5    parado  hombre  ...  3.35  9.51     Luis  2022-01-06 00:13:40\n",
              "\n",
              "[5 rows x 10 columns]"
            ]
          },
          "metadata": {},
          "execution_count": 31
        }
      ]
    },
    {
      "cell_type": "code",
      "source": [
        "df.info()"
      ],
      "metadata": {
        "colab": {
          "base_uri": "https://localhost:8080/"
        },
        "id": "emBhJNd7vCmv",
        "outputId": "951a1192-775f-414c-db20-900ad7c658aa"
      },
      "execution_count": null,
      "outputs": [
        {
          "output_type": "stream",
          "name": "stdout",
          "text": [
            "<class 'pandas.core.frame.DataFrame'>\n",
            "RangeIndex: 57375 entries, 0 to 57374\n",
            "Data columns (total 10 columns):\n",
            " #   Column     Non-Null Count  Dtype  \n",
            "---  ------     --------------  -----  \n",
            " 0   id         57375 non-null  int64  \n",
            " 1   num        57375 non-null  int64  \n",
            " 2   actividad  57375 non-null  object \n",
            " 3   genero     57375 non-null  object \n",
            " 4   edad       57375 non-null  object \n",
            " 5   ejex       57375 non-null  float64\n",
            " 6   ejey       57375 non-null  float64\n",
            " 7   ejez       57375 non-null  float64\n",
            " 8   usuario    57375 non-null  object \n",
            " 9   fecha      57375 non-null  object \n",
            "dtypes: float64(3), int64(2), object(5)\n",
            "memory usage: 4.4+ MB\n"
          ]
        }
      ]
    },
    {
      "cell_type": "code",
      "source": [
        "# Make the following changes\n",
        "#  1) echado & seleccione & sentado = parado\n",
        "df[\"actividad\"].replace([\"echado\",\"sentado\",\"seleccione\"],\"parado\", inplace=True)"
      ],
      "metadata": {
        "id": "3N1fFfem29ju"
      },
      "execution_count": null,
      "outputs": []
    },
    {
      "cell_type": "markdown",
      "source": [
        "**2) READ & PLOT THE SIGNALS**"
      ],
      "metadata": {
        "id": "qGpM_v01Ym1c"
      }
    },
    {
      "cell_type": "code",
      "source": [
        "gb1 = df.groupby([\"genero\",\"edad\",\"actividad\"])\n",
        "gb1.first()"
      ],
      "metadata": {
        "id": "tymgHc5scT17",
        "colab": {
          "base_uri": "https://localhost:8080/",
          "height": 300
        },
        "outputId": "81877841-03ba-4c0a-cb98-43be7b5b5471"
      },
      "execution_count": null,
      "outputs": [
        {
          "output_type": "execute_result",
          "data": {
            "text/html": [
              "\n",
              "  <div id=\"df-91f0867c-7d53-4e1e-8959-b6cd088ccc69\">\n",
              "    <div class=\"colab-df-container\">\n",
              "      <div>\n",
              "<style scoped>\n",
              "    .dataframe tbody tr th:only-of-type {\n",
              "        vertical-align: middle;\n",
              "    }\n",
              "\n",
              "    .dataframe tbody tr th {\n",
              "        vertical-align: top;\n",
              "    }\n",
              "\n",
              "    .dataframe thead th {\n",
              "        text-align: right;\n",
              "    }\n",
              "</style>\n",
              "<table border=\"1\" class=\"dataframe\">\n",
              "  <thead>\n",
              "    <tr style=\"text-align: right;\">\n",
              "      <th></th>\n",
              "      <th></th>\n",
              "      <th></th>\n",
              "      <th>id</th>\n",
              "      <th>num</th>\n",
              "      <th>ejex</th>\n",
              "      <th>ejey</th>\n",
              "      <th>ejez</th>\n",
              "      <th>usuario</th>\n",
              "      <th>fecha</th>\n",
              "    </tr>\n",
              "    <tr>\n",
              "      <th>genero</th>\n",
              "      <th>edad</th>\n",
              "      <th>actividad</th>\n",
              "      <th></th>\n",
              "      <th></th>\n",
              "      <th></th>\n",
              "      <th></th>\n",
              "      <th></th>\n",
              "      <th></th>\n",
              "      <th></th>\n",
              "    </tr>\n",
              "  </thead>\n",
              "  <tbody>\n",
              "    <tr>\n",
              "      <th rowspan=\"4\" valign=\"top\">hombre</th>\n",
              "      <th rowspan=\"4\" valign=\"top\">joven</th>\n",
              "      <th>caminando</th>\n",
              "      <td>8476</td>\n",
              "      <td>1</td>\n",
              "      <td>-1.30</td>\n",
              "      <td>8.63</td>\n",
              "      <td>1.09</td>\n",
              "      <td>Luis</td>\n",
              "      <td>2022-01-06 00:44:04</td>\n",
              "    </tr>\n",
              "    <tr>\n",
              "      <th>otros</th>\n",
              "      <td>751</td>\n",
              "      <td>1</td>\n",
              "      <td>-0.35</td>\n",
              "      <td>6.92</td>\n",
              "      <td>7.38</td>\n",
              "      <td>Luis</td>\n",
              "      <td>2022-01-06 00:22:00</td>\n",
              "    </tr>\n",
              "    <tr>\n",
              "      <th>parado</th>\n",
              "      <td>1</td>\n",
              "      <td>1</td>\n",
              "      <td>-1.61</td>\n",
              "      <td>3.35</td>\n",
              "      <td>9.51</td>\n",
              "      <td>Luis</td>\n",
              "      <td>2022-01-06 00:13:40</td>\n",
              "    </tr>\n",
              "    <tr>\n",
              "      <th>saltando</th>\n",
              "      <td>26851</td>\n",
              "      <td>1</td>\n",
              "      <td>0.52</td>\n",
              "      <td>0.43</td>\n",
              "      <td>10.01</td>\n",
              "      <td>Luis</td>\n",
              "      <td>2022-01-06 02:22:49</td>\n",
              "    </tr>\n",
              "    <tr>\n",
              "      <th rowspan=\"3\" valign=\"top\">mujer</th>\n",
              "      <th rowspan=\"3\" valign=\"top\">joven</th>\n",
              "      <th>caminando</th>\n",
              "      <td>20776</td>\n",
              "      <td>1</td>\n",
              "      <td>-0.55</td>\n",
              "      <td>3.34</td>\n",
              "      <td>9.16</td>\n",
              "      <td>Guiomar</td>\n",
              "      <td>2022-01-06 01:21:43</td>\n",
              "    </tr>\n",
              "    <tr>\n",
              "      <th>parado</th>\n",
              "      <td>16951</td>\n",
              "      <td>1</td>\n",
              "      <td>-0.04</td>\n",
              "      <td>4.09</td>\n",
              "      <td>9.13</td>\n",
              "      <td>Guiomar</td>\n",
              "      <td>2022-01-06 01:15:27</td>\n",
              "    </tr>\n",
              "    <tr>\n",
              "      <th>saltando</th>\n",
              "      <td>28501</td>\n",
              "      <td>1</td>\n",
              "      <td>-1.37</td>\n",
              "      <td>9.55</td>\n",
              "      <td>13.50</td>\n",
              "      <td>Guiomar</td>\n",
              "      <td>2022-01-06 02:33:20</td>\n",
              "    </tr>\n",
              "  </tbody>\n",
              "</table>\n",
              "</div>\n",
              "      <button class=\"colab-df-convert\" onclick=\"convertToInteractive('df-91f0867c-7d53-4e1e-8959-b6cd088ccc69')\"\n",
              "              title=\"Convert this dataframe to an interactive table.\"\n",
              "              style=\"display:none;\">\n",
              "        \n",
              "  <svg xmlns=\"http://www.w3.org/2000/svg\" height=\"24px\"viewBox=\"0 0 24 24\"\n",
              "       width=\"24px\">\n",
              "    <path d=\"M0 0h24v24H0V0z\" fill=\"none\"/>\n",
              "    <path d=\"M18.56 5.44l.94 2.06.94-2.06 2.06-.94-2.06-.94-.94-2.06-.94 2.06-2.06.94zm-11 1L8.5 8.5l.94-2.06 2.06-.94-2.06-.94L8.5 2.5l-.94 2.06-2.06.94zm10 10l.94 2.06.94-2.06 2.06-.94-2.06-.94-.94-2.06-.94 2.06-2.06.94z\"/><path d=\"M17.41 7.96l-1.37-1.37c-.4-.4-.92-.59-1.43-.59-.52 0-1.04.2-1.43.59L10.3 9.45l-7.72 7.72c-.78.78-.78 2.05 0 2.83L4 21.41c.39.39.9.59 1.41.59.51 0 1.02-.2 1.41-.59l7.78-7.78 2.81-2.81c.8-.78.8-2.07 0-2.86zM5.41 20L4 18.59l7.72-7.72 1.47 1.35L5.41 20z\"/>\n",
              "  </svg>\n",
              "      </button>\n",
              "      \n",
              "  <style>\n",
              "    .colab-df-container {\n",
              "      display:flex;\n",
              "      flex-wrap:wrap;\n",
              "      gap: 12px;\n",
              "    }\n",
              "\n",
              "    .colab-df-convert {\n",
              "      background-color: #E8F0FE;\n",
              "      border: none;\n",
              "      border-radius: 50%;\n",
              "      cursor: pointer;\n",
              "      display: none;\n",
              "      fill: #1967D2;\n",
              "      height: 32px;\n",
              "      padding: 0 0 0 0;\n",
              "      width: 32px;\n",
              "    }\n",
              "\n",
              "    .colab-df-convert:hover {\n",
              "      background-color: #E2EBFA;\n",
              "      box-shadow: 0px 1px 2px rgba(60, 64, 67, 0.3), 0px 1px 3px 1px rgba(60, 64, 67, 0.15);\n",
              "      fill: #174EA6;\n",
              "    }\n",
              "\n",
              "    [theme=dark] .colab-df-convert {\n",
              "      background-color: #3B4455;\n",
              "      fill: #D2E3FC;\n",
              "    }\n",
              "\n",
              "    [theme=dark] .colab-df-convert:hover {\n",
              "      background-color: #434B5C;\n",
              "      box-shadow: 0px 1px 3px 1px rgba(0, 0, 0, 0.15);\n",
              "      filter: drop-shadow(0px 1px 2px rgba(0, 0, 0, 0.3));\n",
              "      fill: #FFFFFF;\n",
              "    }\n",
              "  </style>\n",
              "\n",
              "      <script>\n",
              "        const buttonEl =\n",
              "          document.querySelector('#df-91f0867c-7d53-4e1e-8959-b6cd088ccc69 button.colab-df-convert');\n",
              "        buttonEl.style.display =\n",
              "          google.colab.kernel.accessAllowed ? 'block' : 'none';\n",
              "\n",
              "        async function convertToInteractive(key) {\n",
              "          const element = document.querySelector('#df-91f0867c-7d53-4e1e-8959-b6cd088ccc69');\n",
              "          const dataTable =\n",
              "            await google.colab.kernel.invokeFunction('convertToInteractive',\n",
              "                                                     [key], {});\n",
              "          if (!dataTable) return;\n",
              "\n",
              "          const docLinkHtml = 'Like what you see? Visit the ' +\n",
              "            '<a target=\"_blank\" href=https://colab.research.google.com/notebooks/data_table.ipynb>data table notebook</a>'\n",
              "            + ' to learn more about interactive tables.';\n",
              "          element.innerHTML = '';\n",
              "          dataTable['output_type'] = 'display_data';\n",
              "          await google.colab.output.renderOutput(dataTable, element);\n",
              "          const docLink = document.createElement('div');\n",
              "          docLink.innerHTML = docLinkHtml;\n",
              "          element.appendChild(docLink);\n",
              "        }\n",
              "      </script>\n",
              "    </div>\n",
              "  </div>\n",
              "  "
            ],
            "text/plain": [
              "                           id  num  ejex  ...   ejez  usuario                fecha\n",
              "genero edad  actividad                    ...                                     \n",
              "hombre joven caminando   8476    1 -1.30  ...   1.09     Luis  2022-01-06 00:44:04\n",
              "             otros        751    1 -0.35  ...   7.38     Luis  2022-01-06 00:22:00\n",
              "             parado         1    1 -1.61  ...   9.51     Luis  2022-01-06 00:13:40\n",
              "             saltando   26851    1  0.52  ...  10.01     Luis  2022-01-06 02:22:49\n",
              "mujer  joven caminando  20776    1 -0.55  ...   9.16  Guiomar  2022-01-06 01:21:43\n",
              "             parado     16951    1 -0.04  ...   9.13  Guiomar  2022-01-06 01:15:27\n",
              "             saltando   28501    1 -1.37  ...  13.50  Guiomar  2022-01-06 02:33:20\n",
              "\n",
              "[7 rows x 7 columns]"
            ]
          },
          "metadata": {},
          "execution_count": 34
        }
      ]
    },
    {
      "cell_type": "code",
      "source": [
        "# Get the number of available signals \n",
        "gb_aux1 = df.groupby([\"genero\",\"edad\",\"actividad\",\"num\"])\n",
        "df_aux1 = gb_aux1.count().query('num==1')\n",
        "df_aux1"
      ],
      "metadata": {
        "colab": {
          "base_uri": "https://localhost:8080/",
          "height": 300
        },
        "id": "4fsoDkJ4t07e",
        "outputId": "dacec300-b23f-4aea-cedc-b20ef2fea8a2"
      },
      "execution_count": null,
      "outputs": [
        {
          "output_type": "execute_result",
          "data": {
            "text/html": [
              "\n",
              "  <div id=\"df-82cbfd1f-2a08-4f55-b9c9-4744cf4b5fb7\">\n",
              "    <div class=\"colab-df-container\">\n",
              "      <div>\n",
              "<style scoped>\n",
              "    .dataframe tbody tr th:only-of-type {\n",
              "        vertical-align: middle;\n",
              "    }\n",
              "\n",
              "    .dataframe tbody tr th {\n",
              "        vertical-align: top;\n",
              "    }\n",
              "\n",
              "    .dataframe thead th {\n",
              "        text-align: right;\n",
              "    }\n",
              "</style>\n",
              "<table border=\"1\" class=\"dataframe\">\n",
              "  <thead>\n",
              "    <tr style=\"text-align: right;\">\n",
              "      <th></th>\n",
              "      <th></th>\n",
              "      <th></th>\n",
              "      <th></th>\n",
              "      <th>id</th>\n",
              "      <th>ejex</th>\n",
              "      <th>ejey</th>\n",
              "      <th>ejez</th>\n",
              "      <th>usuario</th>\n",
              "      <th>fecha</th>\n",
              "    </tr>\n",
              "    <tr>\n",
              "      <th>genero</th>\n",
              "      <th>edad</th>\n",
              "      <th>actividad</th>\n",
              "      <th>num</th>\n",
              "      <th></th>\n",
              "      <th></th>\n",
              "      <th></th>\n",
              "      <th></th>\n",
              "      <th></th>\n",
              "      <th></th>\n",
              "    </tr>\n",
              "  </thead>\n",
              "  <tbody>\n",
              "    <tr>\n",
              "      <th rowspan=\"4\" valign=\"top\">hombre</th>\n",
              "      <th rowspan=\"4\" valign=\"top\">joven</th>\n",
              "      <th>caminando</th>\n",
              "      <th>1</th>\n",
              "      <td>109</td>\n",
              "      <td>109</td>\n",
              "      <td>109</td>\n",
              "      <td>109</td>\n",
              "      <td>109</td>\n",
              "      <td>109</td>\n",
              "    </tr>\n",
              "    <tr>\n",
              "      <th>otros</th>\n",
              "      <th>1</th>\n",
              "      <td>157</td>\n",
              "      <td>157</td>\n",
              "      <td>157</td>\n",
              "      <td>157</td>\n",
              "      <td>157</td>\n",
              "      <td>157</td>\n",
              "    </tr>\n",
              "    <tr>\n",
              "      <th>parado</th>\n",
              "      <th>1</th>\n",
              "      <td>252</td>\n",
              "      <td>252</td>\n",
              "      <td>252</td>\n",
              "      <td>252</td>\n",
              "      <td>252</td>\n",
              "      <td>252</td>\n",
              "    </tr>\n",
              "    <tr>\n",
              "      <th>saltando</th>\n",
              "      <th>1</th>\n",
              "      <td>104</td>\n",
              "      <td>104</td>\n",
              "      <td>104</td>\n",
              "      <td>104</td>\n",
              "      <td>104</td>\n",
              "      <td>104</td>\n",
              "    </tr>\n",
              "    <tr>\n",
              "      <th rowspan=\"3\" valign=\"top\">mujer</th>\n",
              "      <th rowspan=\"3\" valign=\"top\">joven</th>\n",
              "      <th>caminando</th>\n",
              "      <th>1</th>\n",
              "      <td>41</td>\n",
              "      <td>41</td>\n",
              "      <td>41</td>\n",
              "      <td>41</td>\n",
              "      <td>41</td>\n",
              "      <td>41</td>\n",
              "    </tr>\n",
              "    <tr>\n",
              "      <th>parado</th>\n",
              "      <th>1</th>\n",
              "      <td>51</td>\n",
              "      <td>51</td>\n",
              "      <td>51</td>\n",
              "      <td>51</td>\n",
              "      <td>51</td>\n",
              "      <td>51</td>\n",
              "    </tr>\n",
              "    <tr>\n",
              "      <th>saltando</th>\n",
              "      <th>1</th>\n",
              "      <td>51</td>\n",
              "      <td>51</td>\n",
              "      <td>51</td>\n",
              "      <td>51</td>\n",
              "      <td>51</td>\n",
              "      <td>51</td>\n",
              "    </tr>\n",
              "  </tbody>\n",
              "</table>\n",
              "</div>\n",
              "      <button class=\"colab-df-convert\" onclick=\"convertToInteractive('df-82cbfd1f-2a08-4f55-b9c9-4744cf4b5fb7')\"\n",
              "              title=\"Convert this dataframe to an interactive table.\"\n",
              "              style=\"display:none;\">\n",
              "        \n",
              "  <svg xmlns=\"http://www.w3.org/2000/svg\" height=\"24px\"viewBox=\"0 0 24 24\"\n",
              "       width=\"24px\">\n",
              "    <path d=\"M0 0h24v24H0V0z\" fill=\"none\"/>\n",
              "    <path d=\"M18.56 5.44l.94 2.06.94-2.06 2.06-.94-2.06-.94-.94-2.06-.94 2.06-2.06.94zm-11 1L8.5 8.5l.94-2.06 2.06-.94-2.06-.94L8.5 2.5l-.94 2.06-2.06.94zm10 10l.94 2.06.94-2.06 2.06-.94-2.06-.94-.94-2.06-.94 2.06-2.06.94z\"/><path d=\"M17.41 7.96l-1.37-1.37c-.4-.4-.92-.59-1.43-.59-.52 0-1.04.2-1.43.59L10.3 9.45l-7.72 7.72c-.78.78-.78 2.05 0 2.83L4 21.41c.39.39.9.59 1.41.59.51 0 1.02-.2 1.41-.59l7.78-7.78 2.81-2.81c.8-.78.8-2.07 0-2.86zM5.41 20L4 18.59l7.72-7.72 1.47 1.35L5.41 20z\"/>\n",
              "  </svg>\n",
              "      </button>\n",
              "      \n",
              "  <style>\n",
              "    .colab-df-container {\n",
              "      display:flex;\n",
              "      flex-wrap:wrap;\n",
              "      gap: 12px;\n",
              "    }\n",
              "\n",
              "    .colab-df-convert {\n",
              "      background-color: #E8F0FE;\n",
              "      border: none;\n",
              "      border-radius: 50%;\n",
              "      cursor: pointer;\n",
              "      display: none;\n",
              "      fill: #1967D2;\n",
              "      height: 32px;\n",
              "      padding: 0 0 0 0;\n",
              "      width: 32px;\n",
              "    }\n",
              "\n",
              "    .colab-df-convert:hover {\n",
              "      background-color: #E2EBFA;\n",
              "      box-shadow: 0px 1px 2px rgba(60, 64, 67, 0.3), 0px 1px 3px 1px rgba(60, 64, 67, 0.15);\n",
              "      fill: #174EA6;\n",
              "    }\n",
              "\n",
              "    [theme=dark] .colab-df-convert {\n",
              "      background-color: #3B4455;\n",
              "      fill: #D2E3FC;\n",
              "    }\n",
              "\n",
              "    [theme=dark] .colab-df-convert:hover {\n",
              "      background-color: #434B5C;\n",
              "      box-shadow: 0px 1px 3px 1px rgba(0, 0, 0, 0.15);\n",
              "      filter: drop-shadow(0px 1px 2px rgba(0, 0, 0, 0.3));\n",
              "      fill: #FFFFFF;\n",
              "    }\n",
              "  </style>\n",
              "\n",
              "      <script>\n",
              "        const buttonEl =\n",
              "          document.querySelector('#df-82cbfd1f-2a08-4f55-b9c9-4744cf4b5fb7 button.colab-df-convert');\n",
              "        buttonEl.style.display =\n",
              "          google.colab.kernel.accessAllowed ? 'block' : 'none';\n",
              "\n",
              "        async function convertToInteractive(key) {\n",
              "          const element = document.querySelector('#df-82cbfd1f-2a08-4f55-b9c9-4744cf4b5fb7');\n",
              "          const dataTable =\n",
              "            await google.colab.kernel.invokeFunction('convertToInteractive',\n",
              "                                                     [key], {});\n",
              "          if (!dataTable) return;\n",
              "\n",
              "          const docLinkHtml = 'Like what you see? Visit the ' +\n",
              "            '<a target=\"_blank\" href=https://colab.research.google.com/notebooks/data_table.ipynb>data table notebook</a>'\n",
              "            + ' to learn more about interactive tables.';\n",
              "          element.innerHTML = '';\n",
              "          dataTable['output_type'] = 'display_data';\n",
              "          await google.colab.output.renderOutput(dataTable, element);\n",
              "          const docLink = document.createElement('div');\n",
              "          docLink.innerHTML = docLinkHtml;\n",
              "          element.appendChild(docLink);\n",
              "        }\n",
              "      </script>\n",
              "    </div>\n",
              "  </div>\n",
              "  "
            ],
            "text/plain": [
              "                             id  ejex  ejey  ejez  usuario  fecha\n",
              "genero edad  actividad num                                       \n",
              "hombre joven caminando 1    109   109   109   109      109    109\n",
              "             otros     1    157   157   157   157      157    157\n",
              "             parado    1    252   252   252   252      252    252\n",
              "             saltando  1    104   104   104   104      104    104\n",
              "mujer  joven caminando 1     41    41    41    41       41     41\n",
              "             parado    1     51    51    51    51       51     51\n",
              "             saltando  1     51    51    51    51       51     51"
            ]
          },
          "metadata": {},
          "execution_count": 35
        }
      ]
    },
    {
      "cell_type": "code",
      "source": [
        "cant = df_aux1[\"id\"].sum()\n",
        "print(f\"Cantidad de señales en total: {cant}\")"
      ],
      "metadata": {
        "colab": {
          "base_uri": "https://localhost:8080/"
        },
        "id": "fak899ovxumc",
        "outputId": "f1140e78-bd41-4a02-ca48-64c972f63bec"
      },
      "execution_count": null,
      "outputs": [
        {
          "output_type": "stream",
          "name": "stdout",
          "text": [
            "Cantidad de señales en total: 765\n"
          ]
        }
      ]
    },
    {
      "cell_type": "code",
      "source": [
        "# Select a group\n",
        "gender = \"hombre\"\n",
        "age = \"joven\"\n",
        "action = \"caminando\"\n",
        "gb2 = gb1.get_group((gender,age,action))\n",
        "gb2.head()"
      ],
      "metadata": {
        "colab": {
          "base_uri": "https://localhost:8080/",
          "height": 206
        },
        "id": "C5yPvv0fdxw0",
        "outputId": "16828ec0-26a9-40c8-f822-a50ba79396fc"
      },
      "execution_count": null,
      "outputs": [
        {
          "output_type": "execute_result",
          "data": {
            "text/html": [
              "\n",
              "  <div id=\"df-24bbfdd8-1183-49f2-921d-02443a15b16f\">\n",
              "    <div class=\"colab-df-container\">\n",
              "      <div>\n",
              "<style scoped>\n",
              "    .dataframe tbody tr th:only-of-type {\n",
              "        vertical-align: middle;\n",
              "    }\n",
              "\n",
              "    .dataframe tbody tr th {\n",
              "        vertical-align: top;\n",
              "    }\n",
              "\n",
              "    .dataframe thead th {\n",
              "        text-align: right;\n",
              "    }\n",
              "</style>\n",
              "<table border=\"1\" class=\"dataframe\">\n",
              "  <thead>\n",
              "    <tr style=\"text-align: right;\">\n",
              "      <th></th>\n",
              "      <th>id</th>\n",
              "      <th>num</th>\n",
              "      <th>ejex</th>\n",
              "      <th>ejey</th>\n",
              "      <th>ejez</th>\n",
              "      <th>usuario</th>\n",
              "      <th>fecha</th>\n",
              "    </tr>\n",
              "  </thead>\n",
              "  <tbody>\n",
              "    <tr>\n",
              "      <th>8475</th>\n",
              "      <td>8476</td>\n",
              "      <td>1</td>\n",
              "      <td>-1.30</td>\n",
              "      <td>8.63</td>\n",
              "      <td>1.09</td>\n",
              "      <td>Luis</td>\n",
              "      <td>2022-01-06 00:44:04</td>\n",
              "    </tr>\n",
              "    <tr>\n",
              "      <th>8476</th>\n",
              "      <td>8477</td>\n",
              "      <td>2</td>\n",
              "      <td>-0.58</td>\n",
              "      <td>9.19</td>\n",
              "      <td>-0.15</td>\n",
              "      <td>Luis</td>\n",
              "      <td>2022-01-06 00:44:04</td>\n",
              "    </tr>\n",
              "    <tr>\n",
              "      <th>8477</th>\n",
              "      <td>8478</td>\n",
              "      <td>3</td>\n",
              "      <td>-0.58</td>\n",
              "      <td>9.19</td>\n",
              "      <td>-0.15</td>\n",
              "      <td>Luis</td>\n",
              "      <td>2022-01-06 00:44:04</td>\n",
              "    </tr>\n",
              "    <tr>\n",
              "      <th>8478</th>\n",
              "      <td>8479</td>\n",
              "      <td>4</td>\n",
              "      <td>-0.71</td>\n",
              "      <td>11.07</td>\n",
              "      <td>-1.19</td>\n",
              "      <td>Luis</td>\n",
              "      <td>2022-01-06 00:44:04</td>\n",
              "    </tr>\n",
              "    <tr>\n",
              "      <th>8479</th>\n",
              "      <td>8480</td>\n",
              "      <td>5</td>\n",
              "      <td>-0.71</td>\n",
              "      <td>11.07</td>\n",
              "      <td>-1.19</td>\n",
              "      <td>Luis</td>\n",
              "      <td>2022-01-06 00:44:04</td>\n",
              "    </tr>\n",
              "  </tbody>\n",
              "</table>\n",
              "</div>\n",
              "      <button class=\"colab-df-convert\" onclick=\"convertToInteractive('df-24bbfdd8-1183-49f2-921d-02443a15b16f')\"\n",
              "              title=\"Convert this dataframe to an interactive table.\"\n",
              "              style=\"display:none;\">\n",
              "        \n",
              "  <svg xmlns=\"http://www.w3.org/2000/svg\" height=\"24px\"viewBox=\"0 0 24 24\"\n",
              "       width=\"24px\">\n",
              "    <path d=\"M0 0h24v24H0V0z\" fill=\"none\"/>\n",
              "    <path d=\"M18.56 5.44l.94 2.06.94-2.06 2.06-.94-2.06-.94-.94-2.06-.94 2.06-2.06.94zm-11 1L8.5 8.5l.94-2.06 2.06-.94-2.06-.94L8.5 2.5l-.94 2.06-2.06.94zm10 10l.94 2.06.94-2.06 2.06-.94-2.06-.94-.94-2.06-.94 2.06-2.06.94z\"/><path d=\"M17.41 7.96l-1.37-1.37c-.4-.4-.92-.59-1.43-.59-.52 0-1.04.2-1.43.59L10.3 9.45l-7.72 7.72c-.78.78-.78 2.05 0 2.83L4 21.41c.39.39.9.59 1.41.59.51 0 1.02-.2 1.41-.59l7.78-7.78 2.81-2.81c.8-.78.8-2.07 0-2.86zM5.41 20L4 18.59l7.72-7.72 1.47 1.35L5.41 20z\"/>\n",
              "  </svg>\n",
              "      </button>\n",
              "      \n",
              "  <style>\n",
              "    .colab-df-container {\n",
              "      display:flex;\n",
              "      flex-wrap:wrap;\n",
              "      gap: 12px;\n",
              "    }\n",
              "\n",
              "    .colab-df-convert {\n",
              "      background-color: #E8F0FE;\n",
              "      border: none;\n",
              "      border-radius: 50%;\n",
              "      cursor: pointer;\n",
              "      display: none;\n",
              "      fill: #1967D2;\n",
              "      height: 32px;\n",
              "      padding: 0 0 0 0;\n",
              "      width: 32px;\n",
              "    }\n",
              "\n",
              "    .colab-df-convert:hover {\n",
              "      background-color: #E2EBFA;\n",
              "      box-shadow: 0px 1px 2px rgba(60, 64, 67, 0.3), 0px 1px 3px 1px rgba(60, 64, 67, 0.15);\n",
              "      fill: #174EA6;\n",
              "    }\n",
              "\n",
              "    [theme=dark] .colab-df-convert {\n",
              "      background-color: #3B4455;\n",
              "      fill: #D2E3FC;\n",
              "    }\n",
              "\n",
              "    [theme=dark] .colab-df-convert:hover {\n",
              "      background-color: #434B5C;\n",
              "      box-shadow: 0px 1px 3px 1px rgba(0, 0, 0, 0.15);\n",
              "      filter: drop-shadow(0px 1px 2px rgba(0, 0, 0, 0.3));\n",
              "      fill: #FFFFFF;\n",
              "    }\n",
              "  </style>\n",
              "\n",
              "      <script>\n",
              "        const buttonEl =\n",
              "          document.querySelector('#df-24bbfdd8-1183-49f2-921d-02443a15b16f button.colab-df-convert');\n",
              "        buttonEl.style.display =\n",
              "          google.colab.kernel.accessAllowed ? 'block' : 'none';\n",
              "\n",
              "        async function convertToInteractive(key) {\n",
              "          const element = document.querySelector('#df-24bbfdd8-1183-49f2-921d-02443a15b16f');\n",
              "          const dataTable =\n",
              "            await google.colab.kernel.invokeFunction('convertToInteractive',\n",
              "                                                     [key], {});\n",
              "          if (!dataTable) return;\n",
              "\n",
              "          const docLinkHtml = 'Like what you see? Visit the ' +\n",
              "            '<a target=\"_blank\" href=https://colab.research.google.com/notebooks/data_table.ipynb>data table notebook</a>'\n",
              "            + ' to learn more about interactive tables.';\n",
              "          element.innerHTML = '';\n",
              "          dataTable['output_type'] = 'display_data';\n",
              "          await google.colab.output.renderOutput(dataTable, element);\n",
              "          const docLink = document.createElement('div');\n",
              "          docLink.innerHTML = docLinkHtml;\n",
              "          element.appendChild(docLink);\n",
              "        }\n",
              "      </script>\n",
              "    </div>\n",
              "  </div>\n",
              "  "
            ],
            "text/plain": [
              "        id  num  ejex   ejey  ejez usuario                fecha\n",
              "8475  8476    1 -1.30   8.63  1.09    Luis  2022-01-06 00:44:04\n",
              "8476  8477    2 -0.58   9.19 -0.15    Luis  2022-01-06 00:44:04\n",
              "8477  8478    3 -0.58   9.19 -0.15    Luis  2022-01-06 00:44:04\n",
              "8478  8479    4 -0.71  11.07 -1.19    Luis  2022-01-06 00:44:04\n",
              "8479  8480    5 -0.71  11.07 -1.19    Luis  2022-01-06 00:44:04"
            ]
          },
          "metadata": {},
          "execution_count": 37
        }
      ]
    },
    {
      "cell_type": "code",
      "source": [
        "# Plot a group \n",
        "gb2.groupby(\"num\").nth(1)[[\"ejex\",\"ejey\",\"ejez\"]].plot(legend=True, grid=True, xlabel=\"Time\", ylabel=\"Acceleration (m/s2)\",figsize=(10,2.5))\n",
        "plt.title(f\"{gender} {age} - {action}\")\n",
        "plt.savefig(\"fig.png\")"
      ],
      "metadata": {
        "colab": {
          "base_uri": "https://localhost:8080/",
          "height": 214
        },
        "id": "VtYdxmgYerKU",
        "outputId": "c3dd68cf-6140-461c-b77b-8889b6e88459"
      },
      "execution_count": null,
      "outputs": [
        {
          "output_type": "display_data",
          "data": {
            "image/png": "[encoded data removed]",
            "text/plain": [
              "<Figure size 720x180 with 1 Axes>"
            ]
          },
          "metadata": {
            "needs_background": "light"
          }
        }
      ]
    },
    {
      "cell_type": "markdown",
      "source": [
        "**3) DIVIDIR LA SEÑAL EN 3 PARTES IGUALES**"
      ],
      "metadata": {
        "id": "n-JpsUU1gQBk"
      }
    },
    {
      "cell_type": "code",
      "source": [
        "# Divide it and then plot it \n",
        "plt.figure(figsize=(10,2.5))\n",
        "gb2.groupby(\"num\").nth(1).iloc[:30].loc[:,\"ejex\"].plot()\n",
        "gb2.groupby(\"num\").nth(1).iloc[21:52].loc[:,\"ejex\"].plot()\n",
        "gb2.groupby(\"num\").nth(1).iloc[44:].loc[:,\"ejex\"].plot()\n",
        "gb2.groupby(\"num\").nth(1).iloc[:30].loc[:,\"ejey\"].plot()\n",
        "gb2.groupby(\"num\").nth(1).iloc[21:52].loc[:,\"ejey\"].plot()\n",
        "gb2.groupby(\"num\").nth(1).iloc[44:].loc[:,\"ejey\"].plot()\n",
        "gb2.groupby(\"num\").nth(1).iloc[:30].loc[:,\"ejez\"].plot()\n",
        "gb2.groupby(\"num\").nth(1).iloc[21:52].loc[:,\"ejez\"].plot()\n",
        "gb2.groupby(\"num\").nth(1).iloc[44:].loc[:,\"ejez\"].plot()\n",
        "plt.xlabel(\"Time\")\n",
        "plt.ylabel(\"Acceleration (m/s2)\")\n",
        "plt.grid()\n",
        "plt.legend((\"ejeX_1\", \"ejeX_2\",\"ejeX_3\", \"ejeY_1\", \"ejeY_2\", \"ejeY_3\",\"ejeZ_1\", \"ejeZ_2\",\"ejeZ_3\"),\n",
        "           loc='lower center', ncol=3, bbox_to_anchor=(0.9, 1.05))\n",
        "plt.title(f\"{gender} {age} - {action}\")\n",
        "plt.savefig(\"fig_segmentation.png\", bbox_inches='tight', fancybox=True, shadow=True)\n",
        "\n"
      ],
      "metadata": {
        "colab": {
          "base_uri": "https://localhost:8080/",
          "height": 260
        },
        "id": "ibEhZknRk2mc",
        "outputId": "845948ee-fa0c-4c7c-c66d-f40498ddeb72"
      },
      "execution_count": null,
      "outputs": [
        {
          "output_type": "display_data",
          "data": {
            "image/png": "[encoded data removed]",
            "text/plain": [
              "<Figure size 720x180 with 1 Axes>"
            ]
          },
          "metadata": {
            "needs_background": "light"
          }
        }
      ]
    },
    {
      "cell_type": "code",
      "source": [
        "# Dividir en 30 puntos cada uno, con un solapamiento de 8 y 7 puntos\n",
        "# Then it's saved in a list \n",
        "listaX = gb2.groupby(\"num\").nth(1)[\"ejex\"].values.tolist()\n",
        "listaX_1 = listaX[:30]\n",
        "listaX_2 = listaX[22:52]\n",
        "listaX_3 = listaX[45:]\n",
        "print(listaX_3)"
      ],
      "metadata": {
        "colab": {
          "base_uri": "https://localhost:8080/"
        },
        "id": "5RhFejNggPNG",
        "outputId": "da421e6c-5d5e-4632-d968-cd38c6621781"
      },
      "execution_count": null,
      "outputs": [
        {
          "output_type": "stream",
          "name": "stdout",
          "text": [
            "[0.52, 0.52, 0.58, 0.58, 2.16, 2.16, 2.16, -1.19, -1.19, -1.19, -2.73, -2.73, -2.73, 0.72, 0.72, 0.72, 0.96, 0.96, 2.89, 2.89, 2.89, -0.05, -0.05, -0.05, -1.21, -1.21, -1.21, -3.24, -3.24, -0.1]\n"
          ]
        }
      ]
    },
    {
      "cell_type": "markdown",
      "source": [
        "**4) Filtrado de la señal** "
      ],
      "metadata": {
        "id": "3sHels6YqX-u"
      }
    },
    {
      "cell_type": "code",
      "source": [
        "def butter_lowpass_filter(data, cutoff, fs, order):\n",
        "    normal_cutoff = cutoff / (2*fs)\n",
        "    # Get the filter coefficients \n",
        "    b, a = butter(order, normal_cutoff, btype='low', analog=False)\n",
        "    y = filtfilt(b, a, data)\n",
        "    return y"
      ],
      "metadata": {
        "id": "_ClIbY-gtR2K"
      },
      "execution_count": null,
      "outputs": []
    },
    {
      "cell_type": "code",
      "source": [
        "fs=15 # Hz\n",
        "cutoff=10 #Hz\n",
        "order=2\n",
        "y = butter_lowpass_filter(listaX, cutoff, fs, order)"
      ],
      "metadata": {
        "id": "EB-7Yx0njBcK"
      },
      "execution_count": null,
      "outputs": []
    },
    {
      "cell_type": "code",
      "source": [
        "plt.figure(figsize=(10,2.5))\n",
        "plt.plot(listaX, label='Original')\n",
        "plt.plot(y, label='Filtrada')\n",
        "plt.xlabel(\"Time\")\n",
        "plt.ylabel(\"Acceleration (m/s2)\")\n",
        "plt.title(f\"{gender} {age} - {action}\")\n",
        "plt.legend()\n",
        "plt.grid()\n",
        "plt.savefig(\"fig_filtrada.png\", bbox_inches='tight', fancybox=True, shadow=True)"
      ],
      "metadata": {
        "colab": {
          "base_uri": "https://localhost:8080/",
          "height": 214
        },
        "id": "gborGIdzt9Fi",
        "outputId": "2b49c825-2361-4c29-edce-6ed44db6fdd1"
      },
      "execution_count": null,
      "outputs": [
        {
          "output_type": "display_data",
          "data": {
            "image/png": "[encoded data removed]",
            "text/plain": [
              "<Figure size 720x180 with 1 Axes>"
            ]
          },
          "metadata": {
            "needs_background": "light"
          }
        }
      ]
    },
    {
      "cell_type": "markdown",
      "source": [
        "**5) Calculando la FFT**"
      ],
      "metadata": {
        "id": "atZJjkKNxr4K"
      }
    },
    {
      "cell_type": "code",
      "source": [
        "yf = fft(y)\n",
        "# Select all peaks \n",
        "m=argrelextrema(np.abs(yf),np.greater, mode='wrap')\n",
        "yf_peaks = [np.abs(yf)[m] for i in m]\n",
        "# Select the first 2 peaks \n",
        "var_aux1=list(yf_peaks[0])\n",
        "indices_aux = sorted(var_aux1, reverse=True)[:4]\n",
        "if len(set(indices_aux))>2:\n",
        "  indices_aux = sorted(list(set(indices_aux)),reverse=True)[:-1]\n",
        "else:\n",
        "  indices_aux = sorted(list(set(indices_aux)),reverse=True)\n",
        "indices = [var_aux1.index(value) for value in indices_aux]\n",
        "x_peak=[list(m[0])[i] for i in indices]\n",
        "y_peak=indices_aux\n",
        "\n",
        "fig,ax=plt.subplots()\n",
        "plt.plot(np.abs(yf),label='espectro')\n",
        "plt.plot(x_peak,y_peak,'rs')\n",
        "plt.xlabel(\"Frequency\")\n",
        "plt.ylabel(\"Magnitude\")\n",
        "plt.title(f\"{gender} {age} - {action}\")\n",
        "for i in range(len(x_peak)):\n",
        "  ax.annotate(f\"({round(x_peak[i],1)},{round(y_peak[i],1)})\",xy=(x_peak[i],y_peak[i]),xycoords='data')\n",
        "plt.legend()\n",
        "plt.grid()\n",
        "plt.savefig(\"fig_fft.png\", bbox_inches='tight', fancybox=True, shadow=True)"
      ],
      "metadata": {
        "colab": {
          "base_uri": "https://localhost:8080/",
          "height": 295
        },
        "id": "HFCJNvd6yGrD",
        "outputId": "2670241f-901f-4dfb-cd67-ccb82d6914bd"
      },
      "execution_count": null,
      "outputs": [
        {
          "output_type": "display_data",
          "data": {
            "image/png": "[encoded data removed]",
            "text/plain": [
              "<Figure size 432x288 with 1 Axes>"
            ]
          },
          "metadata": {
            "needs_background": "light"
          }
        }
      ]
    },
    {
      "cell_type": "code",
      "source": [
        "# Select the frequency \n",
        "if x_peak[y_peak.index(max(y_peak))]==0:\n",
        "  if max(y_peak)/min(y_peak)>15:\n",
        "    freq_max = x_peak[y_peak.index(max(y_peak))]\n",
        "  else:\n",
        "    freq_max = x_peak[y_peak.index(min(y_peak))]\n",
        "else:\n",
        "  freq_max = x_peak[y_peak.index(max(y_peak))]\n",
        "print(f\"La maxima frecuencia es: {freq_max}\")"
      ],
      "metadata": {
        "colab": {
          "base_uri": "https://localhost:8080/"
        },
        "id": "swHklze3OPPc",
        "outputId": "f7c8195f-b406-4fc7-e58e-fe2e6d7063a8"
      },
      "execution_count": null,
      "outputs": [
        {
          "output_type": "stream",
          "name": "stdout",
          "text": [
            "La maxima frecuencia es: 5\n"
          ]
        }
      ]
    },
    {
      "cell_type": "markdown",
      "source": [
        "**6) Crear el dataset**"
      ],
      "metadata": {
        "id": "C6cYUVKxUbo-"
      }
    },
    {
      "cell_type": "code",
      "source": [
        "# 1) rms, whithout DC\n",
        "np.sqrt(np.mean((y-np.mean(y))**2))"
      ],
      "metadata": {
        "colab": {
          "base_uri": "https://localhost:8080/"
        },
        "id": "UXhnzi8vUaJB",
        "outputId": "4e06db04-95ff-41ac-9cd4-3080d834c811"
      },
      "execution_count": null,
      "outputs": [
        {
          "output_type": "execute_result",
          "data": {
            "text/plain": [
              "1.5164182841190332"
            ]
          },
          "metadata": {},
          "execution_count": 46
        }
      ]
    },
    {
      "cell_type": "code",
      "source": [
        "# 2) spectral energy\n",
        "yf_aux = np.abs(yf)\n",
        "yf_aux = yf_aux/max(yf_aux) # Normalizando [0,1]\n",
        "np.mean(yf_aux)"
      ],
      "metadata": {
        "id": "Ev6l_oE3-NE8",
        "colab": {
          "base_uri": "https://localhost:8080/"
        },
        "outputId": "3e9aede0-665b-4972-9b14-db90648c0cd6"
      },
      "execution_count": null,
      "outputs": [
        {
          "output_type": "execute_result",
          "data": {
            "text/plain": [
              "0.08167042720088638"
            ]
          },
          "metadata": {},
          "execution_count": 49
        }
      ]
    },
    {
      "cell_type": "code",
      "source": [
        "# 3) Maximum peak frequency \n",
        "freq_max"
      ],
      "metadata": {
        "colab": {
          "base_uri": "https://localhost:8080/"
        },
        "id": "CVUN10jgCkvO",
        "outputId": "136e412e-859d-4ab7-9375-707f1773bed6"
      },
      "execution_count": null,
      "outputs": [
        {
          "output_type": "execute_result",
          "data": {
            "text/plain": [
              "5"
            ]
          },
          "metadata": {},
          "execution_count": 51
        }
      ]
    },
    {
      "cell_type": "code",
      "source": [
        "# Create the dataset\n",
        "rms_listX = []\n",
        "rms_listY = []\n",
        "rms_listZ = []\n",
        "spc_listX = []\n",
        "spc_listY = []\n",
        "spc_listZ = []\n",
        "freq_listX = []\n",
        "freq_listY = []\n",
        "freq_listZ = []\n",
        "E1, E2, E3, E4, E5, E6 = [], [], [], [], [], []\n",
        "\n",
        "for value in gb1.groups.keys(): # for every event \n",
        "  gender = value[0] #\"hombre\"\n",
        "  age = value[1] #\"joven\"\n",
        "  action = value[2] #\"caminando\"\n",
        "  gb2 = gb1.get_group(value)\n",
        "  # \n",
        "  ejes = [\"ejex\",\"ejey\",\"ejez\"]\n",
        "  cant = df_aux1.loc[value,(\"id\")].values[0]\n",
        "  for j in range(cant): # for every signal\n",
        "    for eje in ejes: # for every axis \n",
        "      lista = gb2.groupby(\"num\").nth(j)[eje].values.tolist()\n",
        "      # Divide in three segments\n",
        "      lista_1 = lista[:30]\n",
        "      lista_2 = lista[22:52]\n",
        "      lista_3 = lista[45:]\n",
        "      lista_dic = {0:lista_1,1:lista_2,2:lista_3}\n",
        "      for lista_i in lista_dic.values():\n",
        "        # Apply a Butterworth filter (LPF) \n",
        "        y_filtered = butter_lowpass_filter(lista_i, cutoff, fs, order)\n",
        "        # Apply a FFT \n",
        "        y_fft = np.abs(fft(y_filtered)) # magnitude \n",
        "        # Get the DATASET attributes \n",
        "        #   1) rms, whithout DC\n",
        "        rms_value = np.sqrt(np.mean((y_filtered-np.mean(y_filtered))**2))\n",
        "        #   2) spectral energy\n",
        "        y_fft_aux = y_fft/max(y_fft) # Normalize between [0,1]\n",
        "        spc_value = np.mean(y_fft_aux)\n",
        "        #   3) Maximum peak frequency\n",
        "        #      Select all peaks \n",
        "        m=argrelextrema(y_fft,np.greater, mode='wrap')\n",
        "        yf_peaks = [y_fft[m] for i in m]\n",
        "        #      Select the first 2 peaks \n",
        "        var_aux1=list(yf_peaks[0])\n",
        "        indices_aux = sorted(var_aux1, reverse=True)[:4]\n",
        "        if len(set(indices_aux))>2:\n",
        "          indices_aux = sorted(list(set(indices_aux)),reverse=True)[:-1]\n",
        "        else:\n",
        "          indices_aux = sorted(list(set(indices_aux)),reverse=True)\n",
        "        indices = [var_aux1.index(value) for value in indices_aux]\n",
        "        x_peak=[list(m[0])[i] for i in indices]\n",
        "        y_peak=indices_aux\n",
        "        #       Select the max freq peak \n",
        "        if x_peak[y_peak.index(max(y_peak))]==0:\n",
        "          if max(y_peak)/min(y_peak)>15:\n",
        "            freq_value = x_peak[y_peak.index(max(y_peak))]\n",
        "          else:\n",
        "            freq_value = x_peak[y_peak.index(min(y_peak))]\n",
        "        else:\n",
        "          freq_value = x_peak[y_peak.index(max(y_peak))]\n",
        "\n",
        "        #   Next, adding to the respective list\n",
        "        if eje=='ejex':\n",
        "          rms_listX.append(rms_value)\n",
        "          spc_listX.append(spc_value)\n",
        "          freq_listX.append(freq_value)\n",
        "        elif eje=='ejey':\n",
        "          rms_listY.append(rms_value)\n",
        "          spc_listY.append(spc_value)\n",
        "          freq_listY.append(freq_value)\n",
        "        elif eje=='ejez':\n",
        "          rms_listZ.append(rms_value)\n",
        "          spc_listZ.append(spc_value)\n",
        "          freq_listZ.append(freq_value)\n",
        "        else:\n",
        "          print(\"Axis name not found!\")\n",
        "          break\n",
        "        \n",
        "        # Create the states  \n",
        "        if eje=='ejex':\n",
        "          if value==('hombre','joven','parado'):\n",
        "            E1.append(1)\n",
        "            E2.append(0)\n",
        "            E3.append(0)\n",
        "            E4.append(0)\n",
        "            E5.append(0)\n",
        "            E6.append(0)\n",
        "          elif value==('hombre','joven','caminando'):\n",
        "            E1.append(0)\n",
        "            E2.append(1)\n",
        "            E3.append(0)\n",
        "            E4.append(0)\n",
        "            E5.append(0)\n",
        "            E6.append(0)\n",
        "          elif value==('hombre','joven','saltando'):\n",
        "            E1.append(0)\n",
        "            E2.append(0)\n",
        "            E3.append(1)\n",
        "            E4.append(0)\n",
        "            E5.append(0)\n",
        "            E6.append(0)\n",
        "          elif value==('hombre','joven','otros'):\n",
        "            E1.append(0)\n",
        "            E2.append(0)\n",
        "            E3.append(0)\n",
        "            E4.append(0)\n",
        "            E5.append(0)\n",
        "            E6.append(0)\n",
        "          elif value==('mujer','joven','parado'):\n",
        "            E1.append(0)\n",
        "            E2.append(0)\n",
        "            E3.append(0)\n",
        "            E4.append(1)\n",
        "            E5.append(0)\n",
        "            E6.append(0)\n",
        "          elif value==('mujer','joven','caminando'):\n",
        "            E1.append(0)\n",
        "            E2.append(0)\n",
        "            E3.append(0)\n",
        "            E4.append(0)\n",
        "            E5.append(1)\n",
        "            E6.append(0)\n",
        "          elif value==('mujer','joven','saltando'):\n",
        "            E1.append(0)\n",
        "            E2.append(0)\n",
        "            E3.append(0)\n",
        "            E4.append(0)\n",
        "            E5.append(0)\n",
        "            E6.append(1)\n",
        "          else:\n",
        "            print('Error!')\n",
        "\n",
        "print(E1)"
      ],
      "metadata": {
        "colab": {
          "base_uri": "https://localhost:8080/"
        },
        "id": "kZ-CubCSC3q9",
        "outputId": "8932fbea-afc2-4639-f770-d19d09251104"
      },
      "execution_count": null,
      "outputs": [
        {
          "output_type": "stream",
          "name": "stdout",
          "text": [
            "[0, 0, 0, 0, 0, 0, 0, 0, 0, 0, 0, 0, 0, 0, 0, 0, 0, 0, 0, 0, 0, 0, 0, 0, 0, 0, 0, 0, 0, 0, 0, 0, 0, 0, 0, 0, 0, 0, 0, 0, 0, 0, 0, 0, 0, 0, 0, 0, 0, 0, 0, 0, 0, 0, 0, 0, 0, 0, 0, 0, 0, 0, 0, 0, 0, 0, 0, 0, 0, 0, 0, 0, 0, 0, 0, 0, 0, 0, 0, 0, 0, 0, 0, 0, 0, 0, 0, 0, 0, 0, 0, 0, 0, 0, 0, 0, 0, 0, 0, 0, 0, 0, 0, 0, 0, 0, 0, 0, 0, 0, 0, 0, 0, 0, 0, 0, 0, 0, 0, 0, 0, 0, 0, 0, 0, 0, 0, 0, 0, 0, 0, 0, 0, 0, 0, 0, 0, 0, 0, 0, 0, 0, 0, 0, 0, 0, 0, 0, 0, 0, 0, 0, 0, 0, 0, 0, 0, 0, 0, 0, 0, 0, 0, 0, 0, 0, 0, 0, 0, 0, 0, 0, 0, 0, 0, 0, 0, 0, 0, 0, 0, 0, 0, 0, 0, 0, 0, 0, 0, 0, 0, 0, 0, 0, 0, 0, 0, 0, 0, 0, 0, 0, 0, 0, 0, 0, 0, 0, 0, 0, 0, 0, 0, 0, 0, 0, 0, 0, 0, 0, 0, 0, 0, 0, 0, 0, 0, 0, 0, 0, 0, 0, 0, 0, 0, 0, 0, 0, 0, 0, 0, 0, 0, 0, 0, 0, 0, 0, 0, 0, 0, 0, 0, 0, 0, 0, 0, 0, 0, 0, 0, 0, 0, 0, 0, 0, 0, 0, 0, 0, 0, 0, 0, 0, 0, 0, 0, 0, 0, 0, 0, 0, 0, 0, 0, 0, 0, 0, 0, 0, 0, 0, 0, 0, 0, 0, 0, 0, 0, 0, 0, 0, 0, 0, 0, 0, 0, 0, 0, 0, 0, 0, 0, 0, 0, 0, 0, 0, 0, 0, 0, 0, 0, 0, 0, 0, 0, 0, 0, 0, 0, 0, 0, 0, 0, 0, 0, 0, 0, 0, 0, 0, 0, 0, 0, 0, 0, 0, 0, 0, 0, 0, 0, 0, 0, 0, 0, 0, 0, 0, 0, 0, 0, 0, 0, 0, 0, 0, 0, 0, 0, 0, 0, 0, 0, 0, 0, 0, 0, 0, 0, 0, 0, 0, 0, 0, 0, 0, 0, 0, 0, 0, 0, 0, 0, 0, 0, 0, 0, 0, 0, 0, 0, 0, 0, 0, 0, 0, 0, 0, 0, 0, 0, 0, 0, 0, 0, 0, 0, 0, 0, 0, 0, 0, 0, 0, 0, 0, 0, 0, 0, 0, 0, 0, 0, 0, 0, 0, 0, 0, 0, 0, 0, 0, 0, 0, 0, 0, 0, 0, 0, 0, 0, 0, 0, 0, 0, 0, 0, 0, 0, 0, 0, 0, 0, 0, 0, 0, 0, 0, 0, 0, 0, 0, 0, 0, 0, 0, 0, 0, 0, 0, 0, 0, 0, 0, 0, 0, 0, 0, 0, 0, 0, 0, 0, 0, 0, 0, 0, 0, 0, 0, 0, 0, 0, 0, 0, 0, 0, 0, 0, 0, 0, 0, 0, 0, 0, 0, 0, 0, 0, 0, 0, 0, 0, 0, 0, 0, 0, 0, 0, 0, 0, 0, 0, 0, 0, 0, 0, 0, 0, 0, 0, 0, 0, 0, 0, 0, 0, 0, 0, 0, 0, 0, 0, 0, 0, 0, 0, 0, 0, 0, 0, 0, 0, 0, 0, 0, 0, 0, 0, 0, 0, 0, 0, 0, 0, 0, 0, 0, 0, 0, 0, 0, 0, 0, 0, 0, 0, 0, 0, 0, 0, 0, 0, 0, 0, 0, 0, 0, 0, 0, 0, 0, 0, 0, 0, 0, 0, 0, 0, 0, 0, 0, 0, 0, 0, 0, 0, 0, 0, 0, 0, 0, 0, 0, 0, 0, 0, 0, 0, 0, 0, 0, 0, 0, 0, 0, 0, 0, 0, 0, 0, 0, 0, 0, 0, 0, 0, 0, 0, 0, 0, 0, 0, 0, 0, 0, 0, 0, 0, 0, 0, 0, 0, 0, 0, 0, 0, 0, 0, 0, 0, 0, 0, 0, 0, 0, 0, 0, 0, 0, 0, 0, 0, 0, 0, 0, 0, 0, 0, 0, 0, 0, 0, 0, 0, 0, 0, 0, 0, 0, 0, 0, 0, 0, 0, 0, 0, 0, 0, 0, 0, 0, 0, 0, 0, 0, 0, 0, 0, 0, 0, 0, 0, 0, 0, 0, 0, 0, 0, 0, 0, 0, 0, 0, 0, 0, 0, 0, 0, 0, 0, 0, 0, 0, 0, 0, 0, 0, 0, 0, 0, 0, 0, 0, 0, 0, 0, 0, 0, 0, 0, 0, 0, 0, 0, 0, 0, 0, 0, 0, 0, 0, 0, 0, 0, 0, 0, 0, 0, 0, 0, 0, 0, 0, 0, 0, 0, 0, 0, 0, 0, 0, 0, 0, 0, 0, 1, 1, 1, 1, 1, 1, 1, 1, 1, 1, 1, 1, 1, 1, 1, 1, 1, 1, 1, 1, 1, 1, 1, 1, 1, 1, 1, 1, 1, 1, 1, 1, 1, 1, 1, 1, 1, 1, 1, 1, 1, 1, 1, 1, 1, 1, 1, 1, 1, 1, 1, 1, 1, 1, 1, 1, 1, 1, 1, 1, 1, 1, 1, 1, 1, 1, 1, 1, 1, 1, 1, 1, 1, 1, 1, 1, 1, 1, 1, 1, 1, 1, 1, 1, 1, 1, 1, 1, 1, 1, 1, 1, 1, 1, 1, 1, 1, 1, 1, 1, 1, 1, 1, 1, 1, 1, 1, 1, 1, 1, 1, 1, 1, 1, 1, 1, 1, 1, 1, 1, 1, 1, 1, 1, 1, 1, 1, 1, 1, 1, 1, 1, 1, 1, 1, 1, 1, 1, 1, 1, 1, 1, 1, 1, 1, 1, 1, 1, 1, 1, 1, 1, 1, 1, 1, 1, 1, 1, 1, 1, 1, 1, 1, 1, 1, 1, 1, 1, 1, 1, 1, 1, 1, 1, 1, 1, 1, 1, 1, 1, 1, 1, 1, 1, 1, 1, 1, 1, 1, 1, 1, 1, 1, 1, 1, 1, 1, 1, 1, 1, 1, 1, 1, 1, 1, 1, 1, 1, 1, 1, 1, 1, 1, 1, 1, 1, 1, 1, 1, 1, 1, 1, 1, 1, 1, 1, 1, 1, 1, 1, 1, 1, 1, 1, 1, 1, 1, 1, 1, 1, 1, 1, 1, 1, 1, 1, 1, 1, 1, 1, 1, 1, 1, 1, 1, 1, 1, 1, 1, 1, 1, 1, 1, 1, 1, 1, 1, 1, 1, 1, 1, 1, 1, 1, 1, 1, 1, 1, 1, 1, 1, 1, 1, 1, 1, 1, 1, 1, 1, 1, 1, 1, 1, 1, 1, 1, 1, 1, 1, 1, 1, 1, 1, 1, 1, 1, 1, 1, 1, 1, 1, 1, 1, 1, 1, 1, 1, 1, 1, 1, 1, 1, 1, 1, 1, 1, 1, 1, 1, 1, 1, 1, 1, 1, 1, 1, 1, 1, 1, 1, 1, 1, 1, 1, 1, 1, 1, 1, 1, 1, 1, 1, 1, 1, 1, 1, 1, 1, 1, 1, 1, 1, 1, 1, 1, 1, 1, 1, 1, 1, 1, 1, 1, 1, 1, 1, 1, 1, 1, 1, 1, 1, 1, 1, 1, 1, 1, 1, 1, 1, 1, 1, 1, 1, 1, 1, 1, 1, 1, 1, 1, 1, 1, 1, 1, 1, 1, 1, 1, 1, 1, 1, 1, 1, 1, 1, 1, 1, 1, 1, 1, 1, 1, 1, 1, 1, 1, 1, 1, 1, 1, 1, 1, 1, 1, 1, 1, 1, 1, 1, 1, 1, 1, 1, 1, 1, 1, 1, 1, 1, 1, 1, 1, 1, 1, 1, 1, 1, 1, 1, 1, 1, 1, 1, 1, 1, 1, 1, 1, 1, 1, 1, 1, 1, 1, 1, 1, 1, 1, 1, 1, 1, 1, 1, 1, 1, 1, 1, 1, 1, 1, 1, 1, 1, 1, 1, 1, 1, 1, 1, 1, 1, 1, 1, 1, 1, 1, 1, 1, 1, 1, 1, 1, 1, 1, 1, 1, 1, 1, 1, 1, 1, 1, 1, 1, 1, 1, 1, 1, 1, 1, 1, 1, 1, 1, 1, 1, 1, 1, 1, 1, 1, 1, 1, 1, 1, 1, 1, 1, 1, 1, 1, 1, 1, 1, 1, 1, 1, 1, 1, 1, 1, 1, 1, 1, 1, 1, 1, 1, 1, 1, 1, 1, 1, 1, 1, 1, 1, 1, 1, 1, 1, 1, 1, 1, 1, 1, 1, 1, 1, 1, 1, 1, 1, 1, 1, 1, 1, 1, 1, 1, 1, 1, 1, 1, 1, 1, 1, 1, 1, 1, 1, 1, 1, 1, 1, 1, 1, 1, 1, 1, 1, 1, 1, 1, 1, 1, 1, 1, 1, 1, 1, 1, 1, 1, 1, 1, 1, 1, 1, 1, 1, 1, 1, 1, 1, 1, 1, 1, 1, 1, 1, 1, 1, 1, 1, 1, 1, 1, 1, 1, 1, 1, 1, 1, 1, 1, 1, 1, 1, 1, 1, 1, 1, 1, 1, 1, 1, 1, 1, 1, 1, 1, 1, 1, 1, 1, 1, 1, 1, 1, 1, 1, 1, 1, 1, 1, 1, 1, 1, 1, 1, 1, 1, 1, 1, 1, 1, 1, 1, 1, 1, 1, 1, 1, 1, 1, 1, 1, 1, 1, 1, 1, 1, 1, 1, 1, 1, 1, 1, 1, 1, 1, 1, 1, 1, 1, 1, 1, 1, 1, 1, 1, 1, 1, 1, 1, 1, 1, 1, 1, 1, 1, 1, 1, 1, 0, 0, 0, 0, 0, 0, 0, 0, 0, 0, 0, 0, 0, 0, 0, 0, 0, 0, 0, 0, 0, 0, 0, 0, 0, 0, 0, 0, 0, 0, 0, 0, 0, 0, 0, 0, 0, 0, 0, 0, 0, 0, 0, 0, 0, 0, 0, 0, 0, 0, 0, 0, 0, 0, 0, 0, 0, 0, 0, 0, 0, 0, 0, 0, 0, 0, 0, 0, 0, 0, 0, 0, 0, 0, 0, 0, 0, 0, 0, 0, 0, 0, 0, 0, 0, 0, 0, 0, 0, 0, 0, 0, 0, 0, 0, 0, 0, 0, 0, 0, 0, 0, 0, 0, 0, 0, 0, 0, 0, 0, 0, 0, 0, 0, 0, 0, 0, 0, 0, 0, 0, 0, 0, 0, 0, 0, 0, 0, 0, 0, 0, 0, 0, 0, 0, 0, 0, 0, 0, 0, 0, 0, 0, 0, 0, 0, 0, 0, 0, 0, 0, 0, 0, 0, 0, 0, 0, 0, 0, 0, 0, 0, 0, 0, 0, 0, 0, 0, 0, 0, 0, 0, 0, 0, 0, 0, 0, 0, 0, 0, 0, 0, 0, 0, 0, 0, 0, 0, 0, 0, 0, 0, 0, 0, 0, 0, 0, 0, 0, 0, 0, 0, 0, 0, 0, 0, 0, 0, 0, 0, 0, 0, 0, 0, 0, 0, 0, 0, 0, 0, 0, 0, 0, 0, 0, 0, 0, 0, 0, 0, 0, 0, 0, 0, 0, 0, 0, 0, 0, 0, 0, 0, 0, 0, 0, 0, 0, 0, 0, 0, 0, 0, 0, 0, 0, 0, 0, 0, 0, 0, 0, 0, 0, 0, 0, 0, 0, 0, 0, 0, 0, 0, 0, 0, 0, 0, 0, 0, 0, 0, 0, 0, 0, 0, 0, 0, 0, 0, 0, 0, 0, 0, 0, 0, 0, 0, 0, 0, 0, 0, 0, 0, 0, 0, 0, 0, 0, 0, 0, 0, 0, 0, 0, 0, 0, 0, 0, 0, 0, 0, 0, 0, 0, 0, 0, 0, 0, 0, 0, 0, 0, 0, 0, 0, 0, 0, 0, 0, 0, 0, 0, 0, 0, 0, 0, 0, 0, 0, 0, 0, 0, 0, 0, 0, 0, 0, 0, 0, 0, 0, 0, 0, 0, 0, 0, 0, 0, 0, 0, 0, 0, 0, 0, 0, 0, 0, 0, 0, 0, 0, 0, 0, 0, 0, 0, 0, 0, 0, 0, 0, 0, 0, 0, 0, 0, 0, 0, 0, 0, 0, 0, 0, 0, 0, 0, 0, 0, 0, 0, 0, 0, 0, 0, 0, 0, 0, 0, 0, 0, 0, 0, 0, 0, 0, 0, 0, 0, 0, 0, 0, 0, 0, 0, 0, 0, 0, 0, 0, 0, 0, 0, 0, 0, 0, 0, 0, 0, 0, 0, 0, 0, 0, 0, 0, 0, 0, 0, 0, 0, 0, 0, 0, 0, 0, 0, 0, 0, 0, 0, 0, 0, 0, 0, 0, 0, 0, 0, 0, 0, 0, 0, 0, 0, 0, 0, 0, 0, 0, 0, 0, 0, 0, 0, 0, 0, 0, 0, 0, 0, 0, 0, 0, 0, 0, 0, 0, 0, 0, 0, 0, 0, 0, 0, 0, 0, 0, 0, 0, 0, 0, 0, 0, 0, 0, 0, 0, 0, 0, 0, 0, 0, 0, 0, 0, 0, 0, 0, 0, 0, 0, 0, 0, 0, 0, 0, 0, 0, 0, 0, 0, 0, 0, 0, 0, 0, 0, 0, 0, 0, 0, 0, 0, 0, 0, 0, 0, 0, 0, 0, 0, 0, 0, 0, 0, 0, 0, 0, 0, 0, 0, 0, 0, 0, 0, 0, 0, 0, 0, 0, 0, 0, 0, 0, 0, 0, 0, 0, 0, 0, 0, 0, 0, 0, 0, 0, 0, 0, 0, 0, 0, 0, 0, 0, 0, 0, 0, 0, 0, 0, 0, 0, 0, 0, 0, 0, 0, 0, 0, 0, 0, 0, 0, 0, 0, 0, 0, 0, 0, 0, 0, 0, 0, 0, 0, 0, 0, 0, 0, 0, 0, 0, 0, 0, 0, 0, 0, 0, 0, 0, 0, 0, 0, 0, 0, 0, 0, 0, 0, 0, 0, 0, 0, 0, 0, 0, 0, 0, 0, 0, 0, 0, 0, 0, 0, 0, 0, 0, 0, 0, 0, 0, 0, 0, 0, 0, 0, 0, 0, 0, 0, 0, 0, 0, 0, 0, 0, 0, 0, 0, 0, 0, 0, 0, 0, 0, 0, 0, 0, 0, 0, 0, 0, 0, 0, 0, 0, 0, 0, 0, 0, 0, 0, 0, 0, 0, 0, 0, 0, 0, 0, 0]\n"
          ]
        }
      ]
    },
    {
      "cell_type": "code",
      "source": [
        "df_final = pd.DataFrame(list(zip(rms_listX, rms_listY, rms_listZ,\n",
        "                      spc_listX, spc_listY, spc_listZ,\n",
        "                      freq_listX, freq_listY, freq_listZ, \n",
        "                      E1, E2, E3, E4, E5, E6)),\n",
        "             columns=[\n",
        "                      \"rms_x\", \"rms_y\", \"rms_z\",\n",
        "                      \"spc_x\", \"spc_y\", \"spc_z\",\n",
        "                      \"frq_x\", \"frq_y\", \"frq_z\",\n",
        "                      \"E1\", \"E2\", \"E3\", \"E4\", \"E5\", \"E6\"\n",
        "             ])\n",
        "df_final.head()"
      ],
      "metadata": {
        "colab": {
          "base_uri": "https://localhost:8080/",
          "height": 206
        },
        "id": "5HB9Wi6yFWbq",
        "outputId": "8869aded-8814-4396-c334-1b200f41b13a"
      },
      "execution_count": null,
      "outputs": [
        {
          "output_type": "execute_result",
          "data": {
            "text/html": [
              "\n",
              "  <div id=\"df-662197cb-e403-4c25-a246-0ce5815dd5a9\">\n",
              "    <div class=\"colab-df-container\">\n",
              "      <div>\n",
              "<style scoped>\n",
              "    .dataframe tbody tr th:only-of-type {\n",
              "        vertical-align: middle;\n",
              "    }\n",
              "\n",
              "    .dataframe tbody tr th {\n",
              "        vertical-align: top;\n",
              "    }\n",
              "\n",
              "    .dataframe thead th {\n",
              "        text-align: right;\n",
              "    }\n",
              "</style>\n",
              "<table border=\"1\" class=\"dataframe\">\n",
              "  <thead>\n",
              "    <tr style=\"text-align: right;\">\n",
              "      <th></th>\n",
              "      <th>rms_x</th>\n",
              "      <th>rms_y</th>\n",
              "      <th>rms_z</th>\n",
              "      <th>spc_x</th>\n",
              "      <th>spc_y</th>\n",
              "      <th>spc_z</th>\n",
              "      <th>frq_x</th>\n",
              "      <th>frq_y</th>\n",
              "      <th>frq_z</th>\n",
              "      <th>E1</th>\n",
              "      <th>E2</th>\n",
              "      <th>E3</th>\n",
              "      <th>E4</th>\n",
              "      <th>E5</th>\n",
              "      <th>E6</th>\n",
              "    </tr>\n",
              "  </thead>\n",
              "  <tbody>\n",
              "    <tr>\n",
              "      <th>0</th>\n",
              "      <td>1.123152</td>\n",
              "      <td>1.505962</td>\n",
              "      <td>0.611471</td>\n",
              "      <td>0.165145</td>\n",
              "      <td>0.050070</td>\n",
              "      <td>0.235599</td>\n",
              "      <td>2</td>\n",
              "      <td>4</td>\n",
              "      <td>4</td>\n",
              "      <td>0</td>\n",
              "      <td>1</td>\n",
              "      <td>0</td>\n",
              "      <td>0</td>\n",
              "      <td>0</td>\n",
              "      <td>0</td>\n",
              "    </tr>\n",
              "    <tr>\n",
              "      <th>1</th>\n",
              "      <td>1.487090</td>\n",
              "      <td>1.669933</td>\n",
              "      <td>0.622680</td>\n",
              "      <td>0.162416</td>\n",
              "      <td>0.061106</td>\n",
              "      <td>0.246576</td>\n",
              "      <td>2</td>\n",
              "      <td>0</td>\n",
              "      <td>4</td>\n",
              "      <td>0</td>\n",
              "      <td>1</td>\n",
              "      <td>0</td>\n",
              "      <td>0</td>\n",
              "      <td>0</td>\n",
              "      <td>0</td>\n",
              "    </tr>\n",
              "    <tr>\n",
              "      <th>2</th>\n",
              "      <td>1.317462</td>\n",
              "      <td>1.427856</td>\n",
              "      <td>0.663076</td>\n",
              "      <td>0.183840</td>\n",
              "      <td>0.047816</td>\n",
              "      <td>0.268246</td>\n",
              "      <td>2</td>\n",
              "      <td>4</td>\n",
              "      <td>2</td>\n",
              "      <td>0</td>\n",
              "      <td>1</td>\n",
              "      <td>0</td>\n",
              "      <td>0</td>\n",
              "      <td>0</td>\n",
              "      <td>0</td>\n",
              "    </tr>\n",
              "    <tr>\n",
              "      <th>3</th>\n",
              "      <td>1.498560</td>\n",
              "      <td>1.815675</td>\n",
              "      <td>0.724357</td>\n",
              "      <td>0.199099</td>\n",
              "      <td>0.051180</td>\n",
              "      <td>0.174332</td>\n",
              "      <td>2</td>\n",
              "      <td>4</td>\n",
              "      <td>4</td>\n",
              "      <td>0</td>\n",
              "      <td>1</td>\n",
              "      <td>0</td>\n",
              "      <td>0</td>\n",
              "      <td>0</td>\n",
              "      <td>0</td>\n",
              "    </tr>\n",
              "    <tr>\n",
              "      <th>4</th>\n",
              "      <td>1.573426</td>\n",
              "      <td>1.674134</td>\n",
              "      <td>0.963957</td>\n",
              "      <td>0.154565</td>\n",
              "      <td>0.049664</td>\n",
              "      <td>0.262076</td>\n",
              "      <td>2</td>\n",
              "      <td>4</td>\n",
              "      <td>2</td>\n",
              "      <td>0</td>\n",
              "      <td>1</td>\n",
              "      <td>0</td>\n",
              "      <td>0</td>\n",
              "      <td>0</td>\n",
              "      <td>0</td>\n",
              "    </tr>\n",
              "  </tbody>\n",
              "</table>\n",
              "</div>\n",
              "      <button class=\"colab-df-convert\" onclick=\"convertToInteractive('df-662197cb-e403-4c25-a246-0ce5815dd5a9')\"\n",
              "              title=\"Convert this dataframe to an interactive table.\"\n",
              "              style=\"display:none;\">\n",
              "        \n",
              "  <svg xmlns=\"http://www.w3.org/2000/svg\" height=\"24px\"viewBox=\"0 0 24 24\"\n",
              "       width=\"24px\">\n",
              "    <path d=\"M0 0h24v24H0V0z\" fill=\"none\"/>\n",
              "    <path d=\"M18.56 5.44l.94 2.06.94-2.06 2.06-.94-2.06-.94-.94-2.06-.94 2.06-2.06.94zm-11 1L8.5 8.5l.94-2.06 2.06-.94-2.06-.94L8.5 2.5l-.94 2.06-2.06.94zm10 10l.94 2.06.94-2.06 2.06-.94-2.06-.94-.94-2.06-.94 2.06-2.06.94z\"/><path d=\"M17.41 7.96l-1.37-1.37c-.4-.4-.92-.59-1.43-.59-.52 0-1.04.2-1.43.59L10.3 9.45l-7.72 7.72c-.78.78-.78 2.05 0 2.83L4 21.41c.39.39.9.59 1.41.59.51 0 1.02-.2 1.41-.59l7.78-7.78 2.81-2.81c.8-.78.8-2.07 0-2.86zM5.41 20L4 18.59l7.72-7.72 1.47 1.35L5.41 20z\"/>\n",
              "  </svg>\n",
              "      </button>\n",
              "      \n",
              "  <style>\n",
              "    .colab-df-container {\n",
              "      display:flex;\n",
              "      flex-wrap:wrap;\n",
              "      gap: 12px;\n",
              "    }\n",
              "\n",
              "    .colab-df-convert {\n",
              "      background-color: #E8F0FE;\n",
              "      border: none;\n",
              "      border-radius: 50%;\n",
              "      cursor: pointer;\n",
              "      display: none;\n",
              "      fill: #1967D2;\n",
              "      height: 32px;\n",
              "      padding: 0 0 0 0;\n",
              "      width: 32px;\n",
              "    }\n",
              "\n",
              "    .colab-df-convert:hover {\n",
              "      background-color: #E2EBFA;\n",
              "      box-shadow: 0px 1px 2px rgba(60, 64, 67, 0.3), 0px 1px 3px 1px rgba(60, 64, 67, 0.15);\n",
              "      fill: #174EA6;\n",
              "    }\n",
              "\n",
              "    [theme=dark] .colab-df-convert {\n",
              "      background-color: #3B4455;\n",
              "      fill: #D2E3FC;\n",
              "    }\n",
              "\n",
              "    [theme=dark] .colab-df-convert:hover {\n",
              "      background-color: #434B5C;\n",
              "      box-shadow: 0px 1px 3px 1px rgba(0, 0, 0, 0.15);\n",
              "      filter: drop-shadow(0px 1px 2px rgba(0, 0, 0, 0.3));\n",
              "      fill: #FFFFFF;\n",
              "    }\n",
              "  </style>\n",
              "\n",
              "      <script>\n",
              "        const buttonEl =\n",
              "          document.querySelector('#df-662197cb-e403-4c25-a246-0ce5815dd5a9 button.colab-df-convert');\n",
              "        buttonEl.style.display =\n",
              "          google.colab.kernel.accessAllowed ? 'block' : 'none';\n",
              "\n",
              "        async function convertToInteractive(key) {\n",
              "          const element = document.querySelector('#df-662197cb-e403-4c25-a246-0ce5815dd5a9');\n",
              "          const dataTable =\n",
              "            await google.colab.kernel.invokeFunction('convertToInteractive',\n",
              "                                                     [key], {});\n",
              "          if (!dataTable) return;\n",
              "\n",
              "          const docLinkHtml = 'Like what you see? Visit the ' +\n",
              "            '<a target=\"_blank\" href=https://colab.research.google.com/notebooks/data_table.ipynb>data table notebook</a>'\n",
              "            + ' to learn more about interactive tables.';\n",
              "          element.innerHTML = '';\n",
              "          dataTable['output_type'] = 'display_data';\n",
              "          await google.colab.output.renderOutput(dataTable, element);\n",
              "          const docLink = document.createElement('div');\n",
              "          docLink.innerHTML = docLinkHtml;\n",
              "          element.appendChild(docLink);\n",
              "        }\n",
              "      </script>\n",
              "    </div>\n",
              "  </div>\n",
              "  "
            ],
            "text/plain": [
              "      rms_x     rms_y     rms_z     spc_x     spc_y  ...  E2  E3  E4  E5  E6\n",
              "0  1.123152  1.505962  0.611471  0.165145  0.050070  ...   1   0   0   0   0\n",
              "1  1.487090  1.669933  0.622680  0.162416  0.061106  ...   1   0   0   0   0\n",
              "2  1.317462  1.427856  0.663076  0.183840  0.047816  ...   1   0   0   0   0\n",
              "3  1.498560  1.815675  0.724357  0.199099  0.051180  ...   1   0   0   0   0\n",
              "4  1.573426  1.674134  0.963957  0.154565  0.049664  ...   1   0   0   0   0\n",
              "\n",
              "[5 rows x 15 columns]"
            ]
          },
          "metadata": {},
          "execution_count": 91
        }
      ]
    },
    {
      "cell_type": "code",
      "source": [
        "# Save as excel \n",
        "df_final.to_excel(root_path + 'Dataset_final.xlsx', index=False)\n",
        "df_final.to_csv(root_path + 'Dataset_final.csv')"
      ],
      "metadata": {
        "id": "oXF7C8T4op8U"
      },
      "execution_count": null,
      "outputs": []
    },
    {
      "cell_type": "code",
      "source": [
        ""
      ],
      "metadata": {
        "id": "ENQUXQrwJCqg"
      },
      "execution_count": null,
      "outputs": []
    }
  ]
}